{
  "nbformat": 4,
  "nbformat_minor": 0,
  "metadata": {
    "colab": {
      "provenance": [],
      "authorship_tag": "ABX9TyNpP89P+/Io37i1xd4EWGxX",
      "include_colab_link": true
    },
    "kernelspec": {
      "name": "python3",
      "display_name": "Python 3"
    },
    "language_info": {
      "name": "python"
    }
  },
  "cells": [
    {
      "cell_type": "markdown",
      "metadata": {
        "id": "view-in-github",
        "colab_type": "text"
      },
      "source": [
        "<a href=\"https://colab.research.google.com/github/dhaanyae/softwarelab/blob/stage-3/experiment2.ipynb\" target=\"_parent\"><img src=\"https://colab.research.google.com/assets/colab-badge.svg\" alt=\"Open In Colab\"/></a>"
      ]
    },
    {
      "cell_type": "code",
      "source": [
        "#3.readfrom file\n",
        "try:\n",
        "  with open(\"weather.txt\",\"r\") as f:\n",
        "    line=f.readline()\n",
        "    T, H, W = map(float, line.split())\n",
        "    W = 0.5 * T**2 - 0.2 * H + 0.1 * W - 15\n",
        "    print(f\"weather:{W}\")\n",
        "except FileNotFoundError:\n",
        "  print(\"file not found\")"
      ],
      "metadata": {
        "colab": {
          "base_uri": "https://localhost:8080/"
        },
        "id": "vihe7tuWhBby",
        "outputId": "e5f98cc1-84e9-4830-bf4f-aacf77833069"
      },
      "execution_count": 8,
      "outputs": [
        {
          "output_type": "stream",
          "name": "stdout",
          "text": [
            "weather:288.5\n"
          ]
        }
      ]
    }
  ]
}