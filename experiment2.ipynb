{
  "nbformat": 4,
  "nbformat_minor": 0,
  "metadata": {
    "colab": {
      "provenance": [],
      "authorship_tag": "ABX9TyPIcECJPhVbXfkozUJuI66g",
      "include_colab_link": true
    },
    "kernelspec": {
      "name": "python3",
      "display_name": "Python 3"
    },
    "language_info": {
      "name": "python"
    }
  },
  "cells": [
    {
      "cell_type": "markdown",
      "metadata": {
        "id": "view-in-github",
        "colab_type": "text"
      },
      "source": [
        "<a href=\"https://colab.research.google.com/github/dhaanyae/softwarelab/blob/stage-4/experiment2.ipynb\" target=\"_parent\"><img src=\"https://colab.research.google.com/assets/colab-badge.svg\" alt=\"Open In Colab\"/></a>"
      ]
    },
    {
      "cell_type": "code",
      "source": [
        "#4.read from mutliple files\n",
        "try:\n",
        "  with open(\"weather.txt\",\"r\") as file:\n",
        "    results=[]\n",
        "    for line in file:\n",
        "      try:\n",
        "        T, H, W= map(float, line.split())\n",
        "        w= 0.5 * T**2 - 0.2 * H + 0.1 * W - 15\n",
        "        results.append(f\"T={T}, H={H}, W={W}, w={w}\")\n",
        "      except FileNotFoundError:\n",
        "         print(\"invalid:{line.strip()}\")\n",
        "    print(\"weather:\")\n",
        "    for result in results:\n",
        "      print(result)\n",
        "except FileNotFoundError:\n",
        "  print(\"error\")"
      ],
      "metadata": {
        "colab": {
          "base_uri": "https://localhost:8080/"
        },
        "id": "vihe7tuWhBby",
        "outputId": "e17b20a2-ef09-4634-ce22-309cc984b1aa"
      },
      "execution_count": 13,
      "outputs": [
        {
          "output_type": "stream",
          "name": "stdout",
          "text": [
            "weather:\n",
            "T=25.0, H=50.0, W=10.0, w=288.5\n",
            "T=30.0, H=60.0, W=15.0, w=424.5\n",
            "T=20.0, H=40.0, W=5.0, w=177.5\n"
          ]
        }
      ]
    },
    {
      "cell_type": "code",
      "source": [],
      "metadata": {
        "id": "AYXpaJBdixkP"
      },
      "execution_count": null,
      "outputs": []
    }
  ]
}