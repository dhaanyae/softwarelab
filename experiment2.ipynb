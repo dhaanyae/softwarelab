{
  "nbformat": 4,
  "nbformat_minor": 0,
  "metadata": {
    "colab": {
      "provenance": [],
      "authorship_tag": "ABX9TyOqH93ggA4EDOtXEjVH1m8Z",
      "include_colab_link": true
    },
    "kernelspec": {
      "name": "python3",
      "display_name": "Python 3"
    },
    "language_info": {
      "name": "python"
    }
  },
  "cells": [
    {
      "cell_type": "markdown",
      "metadata": {
        "id": "view-in-github",
        "colab_type": "text"
      },
      "source": [
        "<a href=\"https://colab.research.google.com/github/dhaanyae/softwarelab/blob/stage-2/experiment2.ipynb\" target=\"_parent\"><img src=\"https://colab.research.google.com/assets/colab-badge.svg\" alt=\"Open In Colab\"/></a>"
      ]
    },
    {
      "cell_type": "code",
      "source": [
        "#2. keyboard input\n",
        "T=float(input(\"enter the temperature:\"))\n",
        "H=float(input(\"enter the humidity:\"))\n",
        "W=float(input(\"enter the wind speed:\"))\n",
        "W= 0.5 * T**2 - 0.2 * H + 0.1 * W - 15\n",
        "print(f\"weather:{W}\")"
      ],
      "metadata": {
        "id": "aqZCqpasgHD0"
      },
      "execution_count": null,
      "outputs": []
    }
  ]
}