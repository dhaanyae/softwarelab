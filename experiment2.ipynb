{
  "nbformat": 4,
  "nbformat_minor": 0,
  "metadata": {
    "colab": {
      "provenance": [],
      "authorship_tag": "ABX9TyOSYQC7nrhzIkyo7lvdCkre",
      "include_colab_link": true
    },
    "kernelspec": {
      "name": "python3",
      "display_name": "Python 3"
    },
    "language_info": {
      "name": "python"
    }
  },
  "cells": [
    {
      "cell_type": "markdown",
      "metadata": {
        "id": "view-in-github",
        "colab_type": "text"
      },
      "source": [
        "<a href=\"https://colab.research.google.com/github/dhaanyae/softwarelab/blob/main/experiment2.ipynb\" target=\"_parent\"><img src=\"https://colab.research.google.com/assets/colab-badge.svg\" alt=\"Open In Colab\"/></a>"
      ]
    },
    {
      "cell_type": "code",
      "execution_count": 2,
      "metadata": {
        "colab": {
          "base_uri": "https://localhost:8080/"
        },
        "id": "W74CYr5dZQPV",
        "outputId": "4699d68b-a194-458b-97eb-103775bddc7c"
      },
      "outputs": [
        {
          "output_type": "stream",
          "name": "stdout",
          "text": [
            "weather:288.5\n"
          ]
        }
      ],
      "source": [
        "#1. hard coded variables\n",
        "T=25\n",
        "H=50\n",
        "W=10\n",
        "W= 0.5 * T**2 - 0.2 * H + 0.1 * W - 15\n",
        "print(f\"weather:{W}\")"
      ]
    }
  ]
}