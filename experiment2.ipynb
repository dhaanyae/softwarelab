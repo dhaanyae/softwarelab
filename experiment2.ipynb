{
  "nbformat": 4,
  "nbformat_minor": 0,
  "metadata": {
    "colab": {
      "provenance": [],
      "authorship_tag": "ABX9TyN40VCC8UfI0rFAdVgbgoIl",
      "include_colab_link": true
    },
    "kernelspec": {
      "name": "python3",
      "display_name": "Python 3"
    },
    "language_info": {
      "name": "python"
    }
  },
  "cells": [
    {
      "cell_type": "markdown",
      "metadata": {
        "id": "view-in-github",
        "colab_type": "text"
      },
      "source": [
        "<a href=\"https://colab.research.google.com/github/dhaanyae/softwarelab/blob/main/experiment2.ipynb\" target=\"_parent\"><img src=\"https://colab.research.google.com/assets/colab-badge.svg\" alt=\"Open In Colab\"/></a>"
      ]
    },
    {
      "cell_type": "code",
      "execution_count": 2,
      "metadata": {
        "colab": {
          "base_uri": "https://localhost:8080/"
        },
        "id": "W74CYr5dZQPV",
        "outputId": "4699d68b-a194-458b-97eb-103775bddc7c"
      },
      "outputs": [
        {
          "output_type": "stream",
          "name": "stdout",
          "text": [
            "weather:288.5\n"
          ]
        }
      ],
      "source": [
        "#1. hard coded variables\n",
        "T=25\n",
        "H=50\n",
        "W=10\n",
        "W= 0.5 * T**2 - 0.2 * H + 0.1 * W - 15\n",
        "print(f\"weather:{W}\")"
      ]
    },
    {
      "cell_type": "code",
      "source": [
        "#2. keyboard input\n",
        "T=float(input(\"enter the temperature:\"))\n",
        "H=float(input(\"enter the humidity:\"))\n",
        "W=float(input(\"enter the wind speed:\"))\n",
        "W= 0.5 * T**2 - 0.2 * H + 0.1 * W - 15\n",
        "print(f\"weather:{W}\")"
      ],
      "metadata": {
        "colab": {
          "base_uri": "https://localhost:8080/"
        },
        "id": "aS5nUBV_dOJm",
        "outputId": "0565eb62-1a5f-4045-baee-75c4921c77a3"
      },
      "execution_count": 3,
      "outputs": [
        {
          "output_type": "stream",
          "name": "stdout",
          "text": [
            "enter the temperature:25\n",
            "enter the humidity:50\n",
            "enter the wind speed:10\n",
            "weather:288.5\n"
          ]
        }
      ]
    }
  ]
}